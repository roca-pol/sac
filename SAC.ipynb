{
  "nbformat": 4,
  "nbformat_minor": 0,
  "metadata": {
    "kernelspec": {
      "display_name": "Python 3",
      "language": "python",
      "name": "python3"
    },
    "language_info": {
      "codemirror_mode": {
        "name": "ipython",
        "version": 3
      },
      "file_extension": ".py",
      "mimetype": "text/x-python",
      "name": "python",
      "nbconvert_exporter": "python",
      "pygments_lexer": "ipython3",
      "version": "3.8.5"
    },
    "colab": {
      "name": "SAC.ipynb",
      "provenance": [],
      "collapsed_sections": []
    },
    "accelerator": "GPU"
  },
  "cells": [
    {
      "cell_type": "markdown",
      "metadata": {
        "id": "qxb-YAhqKkjz"
      },
      "source": [
        "# Soft Actor-Critic Implementation\n",
        "\n",
        "### *Pol Roca Llaberia*"
      ]
    },
    {
      "cell_type": "markdown",
      "metadata": {
        "id": "5EHkCAWazagx"
      },
      "source": [
        "This notebook contains a simple implementation and evaluation of the Soft Actor-Critic (SAC) algorithm to train a stochastic actor in a continuous environment."
      ]
    },
    {
      "cell_type": "code",
      "metadata": {
        "id": "VaOajWhTKkj4"
      },
      "source": [
        "import gym\n",
        "import numpy as np\n",
        "\n",
        "import torch\n",
        "import torch.nn as nn\n",
        "import torch.optim as optim\n",
        "from torch.distributions.normal import Normal\n",
        "\n",
        "from IPython.display import clear_output\n",
        "import matplotlib.pyplot as plt\n",
        "%matplotlib inline"
      ],
      "execution_count": null,
      "outputs": []
    },
    {
      "cell_type": "markdown",
      "metadata": {
        "id": "ywexza8QKkj5"
      },
      "source": [
        "### Choose whether to use GPU or CPU"
      ]
    },
    {
      "cell_type": "code",
      "metadata": {
        "id": "O5csedDwKkj5"
      },
      "source": [
        "USE_CUDA = torch.cuda.is_available()\n",
        "Variable = lambda x: x.cuda() if USE_CUDA else x"
      ],
      "execution_count": null,
      "outputs": []
    },
    {
      "cell_type": "markdown",
      "metadata": {
        "id": "4mqdXwEgKkj6"
      },
      "source": [
        "## Instantiate environment"
      ]
    },
    {
      "cell_type": "code",
      "metadata": {
        "id": "cioVM8WDLkaj",
        "colab": {
          "base_uri": "https://localhost:8080/"
        },
        "outputId": "f05ab407-5563-4e88-d2db-41cd40a755b1"
      },
      "source": [
        "!pip install box2d"
      ],
      "execution_count": null,
      "outputs": [
        {
          "output_type": "stream",
          "text": [
            "Requirement already satisfied: box2d in /usr/local/lib/python3.7/dist-packages (2.3.10)\n"
          ],
          "name": "stdout"
        }
      ]
    },
    {
      "cell_type": "code",
      "metadata": {
        "colab": {
          "base_uri": "https://localhost:8080/"
        },
        "id": "BLL8NRaJKkj6",
        "outputId": "7d5b2b86-79ad-4535-c360-a503a10749ee"
      },
      "source": [
        "# env_id = \"MountainCarContinuous-v0\"\n",
        "env_id = \"LunarLanderContinuous-v2\"\n",
        "env = gym.make(env_id)\n",
        "env_test = gym.make(env_id)\n",
        "env.reset()\n",
        "env_test.reset()\n",
        "\n",
        "n_obs = env.observation_space.shape[0]\n",
        "n_act = env.action_space.shape[0]\n",
        "\n",
        "print('State dim:', n_obs)\n",
        "print('Num actions:', n_act)\n",
        "print('Observation limits:\\n', env.observation_space.high)\n",
        "print(env.observation_space.low)\n",
        "\n",
        "print('Action limits:\\n', env.action_space.high)\n",
        "print(env.action_space.low)"
      ],
      "execution_count": null,
      "outputs": [
        {
          "output_type": "stream",
          "text": [
            "State dim: 8\n",
            "Num actions: 2\n",
            "Observation limits:\n",
            " [inf inf inf inf inf inf inf inf]\n",
            "[-inf -inf -inf -inf -inf -inf -inf -inf]\n",
            "Action limits:\n",
            " [1. 1.]\n",
            "[-1. -1.]\n"
          ],
          "name": "stdout"
        }
      ]
    },
    {
      "cell_type": "markdown",
      "metadata": {
        "id": "zvBVqZlQz7j5"
      },
      "source": [
        "Because actions in these environments can take values from the range [0, 1] just as the output of the actor model, we won't apply any scaling or adaptation. "
      ]
    },
    {
      "cell_type": "markdown",
      "metadata": {
        "id": "Qr5N5KEtKkj7"
      },
      "source": [
        "<h2>Replay Buffer</h2>"
      ]
    },
    {
      "cell_type": "code",
      "metadata": {
        "id": "jkO3EkbyKkj7"
      },
      "source": [
        "class ReplayBuffer(object):\n",
        "    def __init__(self, n_obs, n_act, capacity):\n",
        "        self.next = 0\n",
        "        self.capacity = capacity\n",
        "        self.buffer = np.zeros((capacity, n_obs*2 + n_act + 2), dtype=np.float32)\n",
        "        self.col_idx = (slice(n_obs),                # state\n",
        "                        slice(n_obs, n_obs+n_act),   # action\n",
        "                        (n_obs+n_act,),              # reward\n",
        "                        slice(n_obs+n_act+1, -1),    # next_state\n",
        "                        (-1,))                       # done\n",
        "    \n",
        "    def push(self, state, action, reward, next_state, done):\n",
        "        n = self.next % self.capacity\n",
        "        self.buffer[n] = *state, *action, reward, *next_state, done\n",
        "        self.next += 1\n",
        "    \n",
        "    def sample(self, batch_size, replace=False):\n",
        "        idx = np.random.choice(len(self), batch_size, replace=replace)\n",
        "        batch = self.buffer[idx]\n",
        "        return [Variable(torch.as_tensor(batch[:, cols])) for cols in self.col_idx]\n",
        "    \n",
        "    def __len__(self):\n",
        "        return np.min([self.next, self.capacity])"
      ],
      "execution_count": null,
      "outputs": []
    },
    {
      "cell_type": "markdown",
      "metadata": {
        "id": "55uPpeZXKkj8"
      },
      "source": [
        "## Critic Q-value NN model"
      ]
    },
    {
      "cell_type": "code",
      "metadata": {
        "id": "Xyz26y88Kkj8"
      },
      "source": [
        "class Critic(nn.Module):\n",
        "    def __init__(self, n_dim, layer_units=128):\n",
        "        super().__init__()\n",
        "        \n",
        "        self.layers = nn.Sequential(\n",
        "            nn.Linear(n_dim, layer_units),\n",
        "            nn.ReLU(),\n",
        "            nn.Linear(layer_units, layer_units),\n",
        "            nn.ReLU(),\n",
        "            nn.Linear(layer_units, 1))\n",
        "        \n",
        "    def forward(self, state, action):\n",
        "        x = torch.cat((state, action), dim=1)\n",
        "        return self.layers(x)"
      ],
      "execution_count": null,
      "outputs": []
    },
    {
      "cell_type": "code",
      "metadata": {
        "id": "MUH1xggliZCj"
      },
      "source": [
        "critic1 = Critic(n_obs + n_act)\n",
        "critic2 = Critic(n_obs + n_act)\n",
        "critic1_target = Critic(n_obs + n_act)\n",
        "critic2_target = Critic(n_obs + n_act)\n",
        "\n",
        "if USE_CUDA:\n",
        "    critic1 = critic1.cuda()\n",
        "    critic2 = critic2.cuda()\n",
        "    critic1_target = critic1_target.cuda()\n",
        "    critic2_target = critic2_target.cuda()\n",
        "\n",
        "# start with the same weights\n",
        "critic1_target.load_state_dict(critic1.state_dict())\n",
        "critic2_target.load_state_dict(critic2.state_dict())\n",
        "\n",
        "critics = [\n",
        "    critic1, critic1_target,\n",
        "    critic2, critic2_target,\n",
        "]"
      ],
      "execution_count": null,
      "outputs": []
    },
    {
      "cell_type": "markdown",
      "metadata": {
        "id": "oNU5ipNGKkj9"
      },
      "source": [
        "## Actor Policy NN model"
      ]
    },
    {
      "cell_type": "code",
      "metadata": {
        "id": "6JXPDAd5Kkj9"
      },
      "source": [
        "class Actor(nn.Module):\n",
        "    def __init__(self, n_obs, n_act, layer_units=128, logsigma_min=-20, logsigma_max=2):\n",
        "        super().__init__()\n",
        "        \n",
        "        self.n_act = n_act\n",
        "        self.logsigma_min = logsigma_min\n",
        "        self.logsigma_max = logsigma_max\n",
        "\n",
        "        self.layers = nn.Sequential(\n",
        "            nn.Linear(n_obs, layer_units),\n",
        "            nn.ReLU(),\n",
        "            nn.Linear(layer_units, layer_units),\n",
        "            nn.ReLU())\n",
        "        self.out_mu = nn.Linear(layer_units, n_act)\n",
        "        self.out_logsigma = nn.Linear(layer_units, n_act)\n",
        "        \n",
        "    def forward(self, state, return_log_prob=True, explore=True):\n",
        "        y = self.layers(state)\n",
        "        mu = self.out_mu(y)\n",
        "\n",
        "        # when using the agent outside of training, return the (squashed) mean\n",
        "        if not explore:\n",
        "            return torch.tanh(mu)\n",
        "\n",
        "        logsigma = self.out_logsigma(y)\n",
        "        # clip to prevent exploding values\n",
        "        logsigma = torch.clamp(logsigma, self.logsigma_min, self.logsigma_max)\n",
        "        # consider the output as a logarithm so that sigma is always positive\n",
        "        sigma = torch.exp(logsigma)\n",
        "\n",
        "        # sample from the distribution\n",
        "        dist = Normal(mu, sigma)\n",
        "        action = dist.rsample() # this does the reparameterization trick\n",
        "        action_sq = torch.tanh(action) # squash\n",
        "        \n",
        "        # when deciding an action to be performed in an actual environment, \n",
        "        # probabilities are not needed so we avoid unnecessary computations\n",
        "        if not return_log_prob:\n",
        "            return action_sq\n",
        "\n",
        "        # adapt probabilities (approx) because we squash the action using tanh\n",
        "        log_prob = dist.log_prob(action).sum(axis=-1)\n",
        "        log_prob -= (2 * (np.log(2) - action \\\n",
        "                     - nn.functional.softplus(-2*action))).sum(axis=1)\n",
        "        return action_sq, log_prob\n",
        "\n",
        "    def act(self, state, explore=True):\n",
        "        with torch.no_grad():\n",
        "            state = Variable(torch.FloatTensor(np.float32(state)).unsqueeze(0))\n",
        "            action = self.forward(state, explore=explore, return_log_prob=False)\n",
        "            return action[0].cpu().numpy()"
      ],
      "execution_count": null,
      "outputs": []
    },
    {
      "cell_type": "code",
      "metadata": {
        "id": "-utAkSjAiTpv"
      },
      "source": [
        "actor = Actor(n_obs, n_act).cuda() if USE_CUDA else Actor(n_obs, n_act)"
      ],
      "execution_count": null,
      "outputs": []
    },
    {
      "cell_type": "markdown",
      "metadata": {
        "id": "KJcHPRZGKkj-"
      },
      "source": [
        "## Actor-Critic Loss"
      ]
    },
    {
      "cell_type": "code",
      "metadata": {
        "id": "c8J2ORhhKkj-"
      },
      "source": [
        "class SAC:\n",
        "    def __init__(self,\n",
        "                 actor,\n",
        "                 critics,\n",
        "                 replay_buffer,\n",
        "                 optimizer=optim.Adam,\n",
        "                 batch_size=64,\n",
        "                 gamma=0.99,\n",
        "                 ro=0.995,\n",
        "                 reward_scale=1,\n",
        "                 alpha_start=1.0,\n",
        "                 alpha_final=0.1,\n",
        "                 alpha_decay=3e4,\n",
        "                 init_delay=5e3,\n",
        "                 update_every=50):\n",
        "        \n",
        "        self.actor = actor\n",
        "        self.critic1, self.critic1_target, \\\n",
        "          self.critic2, self.critic2_target = critics\n",
        "        self.replay_buffer = replay_buffer\n",
        "\n",
        "        self.batch_size = batch_size\n",
        "        self.gamma = gamma\n",
        "        self.ro = ro\n",
        "        self.reward_scale = reward_scale\n",
        "        self.alpha_start = alpha_start\n",
        "        self.alpha_final = alpha_final\n",
        "        self.alpha_decay = alpha_decay\n",
        "        self.init_delay = init_delay\n",
        "        self.update_every = update_every\n",
        "            \n",
        "        self.optim1 = optimizer(self.critic1.parameters())\n",
        "        self.optim2 = optimizer(self.critic2.parameters())\n",
        "        self.optim3 = optimizer(self.actor.parameters())  \n",
        "        \n",
        "        self.losses_critic = []\n",
        "        self.losses_actor = []      \n",
        "        self.t = 0\n",
        "\n",
        "    def act(self, state, explore=True):\n",
        "        return self.actor.act(state, explore=explore)\n",
        "\n",
        "    def feedback(self, state, action, reward, next_state, done):\n",
        "        reward *= self.reward_scale\n",
        "        self.replay_buffer.push(state, action, reward, next_state, done)\n",
        "\n",
        "        if self.t >= self.init_delay and self.t % self.update_every == 0:\n",
        "            for _ in range(self.update_every):\n",
        "                self.alpha = self._alpha_by_timestep(self.t)\n",
        "                batch = self.replay_buffer.sample(self.batch_size)\n",
        "                loss_critic = self._update_critic(batch)\n",
        "                loss_actor = self._update_actor(batch)\n",
        "                self._update_critic_target()\n",
        "                self.losses_critic.append(loss_critic.item())\n",
        "                self.losses_actor.append(loss_actor.item())\n",
        "        \n",
        "        self.t += 1\n",
        "\n",
        "    def _alpha_by_timestep(self, t):\n",
        "        return self.alpha_final + (self.alpha_start - self.alpha_final) \\\n",
        "               * np.exp(-1. * t / self.alpha_decay)\n",
        "\n",
        "    def _update_critic(self, batch):\n",
        "        state, action, reward, next_state, done = batch\n",
        "\n",
        "        with torch.no_grad():\n",
        "            next_action, next_log_prob = self.actor(next_state)\n",
        "            q_value1_target = self.critic1_target(next_state, next_action)\n",
        "            q_value2_target = self.critic2_target(next_state, next_action)\n",
        "            min_q_value_target = torch.min(q_value1_target, q_value2_target)\n",
        "\n",
        "            y = reward + (1. - done) * self.gamma * (min_q_value_target - self.alpha * next_log_prob)\n",
        "\n",
        "        q_value1 = self.critic1(state, action)\n",
        "        q_value2 = self.critic2(state, action)\n",
        "        loss_critic1 = (q_value1 - y).pow(2).mean()\n",
        "        loss_critic2 = (q_value2 - y).pow(2).mean()\n",
        "            \n",
        "        self.optim1.zero_grad()\n",
        "        loss_critic1.backward()\n",
        "        self.optim1.step()\n",
        "\n",
        "        self.optim2.zero_grad()\n",
        "        loss_critic2.backward()\n",
        "        self.optim2.step()\n",
        "\n",
        "        return loss_critic1 + loss_critic2\n",
        "\n",
        "    def _update_actor(self, batch):\n",
        "        state, action, reward, next_state, done = batch\n",
        "        \n",
        "        action, log_prob = self.actor(state)\n",
        "        q_value1 = self.critic1(state, action)\n",
        "        q_value2 = self.critic2(state, action)\n",
        "        min_q_value = torch.min(q_value1, q_value2)\n",
        "        \n",
        "        loss_actor = (self.alpha * log_prob - min_q_value).mean()\n",
        "\n",
        "        self.optim3.zero_grad()\n",
        "        loss_actor.backward()\n",
        "        self.optim3.step()\n",
        "\n",
        "        return loss_actor\n",
        "\n",
        "    def _update_critic_target(self):\n",
        "        # this performs a polyak update with parameter ro\n",
        "        # note that here ro represents the part that is kept from the target\n",
        "        # network (sometimes in the papers it is 1 - ro)\n",
        "        with torch.no_grad():\n",
        "            for c1, c2, c1t, c2t in zip(self.critic1.parameters(), \n",
        "                                        self.critic2.parameters(),\n",
        "                                        self.critic1_target.parameters(), \n",
        "                                        self.critic2_target.parameters()):\n",
        "                c1t.data.mul_(self.ro)\n",
        "                c1t.data.add_((1. - self.ro) * c1.data)\n",
        "\n",
        "                c2t.data.mul_(self.ro)\n",
        "                c2t.data.add_((1. - self.ro) * c2.data)"
      ],
      "execution_count": null,
      "outputs": []
    },
    {
      "cell_type": "markdown",
      "metadata": {
        "id": "LTqVg_BX2hro"
      },
      "source": [
        "We will define a function to evaluate the evolution in performance of the agent throughout training."
      ]
    },
    {
      "cell_type": "code",
      "metadata": {
        "id": "EVsVde5OfXHm"
      },
      "source": [
        "def rollout(agent, env, n):\n",
        "    all_rewards = []\n",
        "    for _ in range(n):\n",
        "        episode_reward = 0\n",
        "        done = False\n",
        "        state = env.reset()\n",
        "        while not done:\n",
        "            action = agent.act(state, explore=False)    \n",
        "            state, reward, done, _ = env.step(action)\n",
        "            episode_reward += reward\n",
        "        all_rewards.append(episode_reward)\n",
        "    return np.min(all_rewards), np.mean(all_rewards), np.max(all_rewards)"
      ],
      "execution_count": null,
      "outputs": []
    },
    {
      "cell_type": "markdown",
      "metadata": {
        "id": "uQcpkfjr3Cmx"
      },
      "source": [
        "And also a function to plot that and some metrics on the go."
      ]
    },
    {
      "cell_type": "code",
      "metadata": {
        "id": "XThfrbIAKkj_"
      },
      "source": [
        "def plot(t, rewards, critic_loss, actor_loss):\n",
        "    clear_output(True)\n",
        "\n",
        "    rewards = np.array(rewards)\n",
        "    plt.figure(figsize=(20, 5))\n",
        "    plt.subplot(131)\n",
        "    plt.title(f'frame: {t} reward: {round(rewards[-1, 1], 2)}')\n",
        "    plt.plot(rewards[:, 1])\n",
        "    plt.fill_between(x=range(len(rewards)), \n",
        "                     y1=rewards[:, 0], \n",
        "                     y2=rewards[:, 2],\n",
        "                     alpha=0.2)\n",
        "\n",
        "    plt.subplot(132)\n",
        "    plt.title('critic loss')\n",
        "    plt.plot(critic_loss)\n",
        "\n",
        "    plt.subplot(133)\n",
        "    plt.title('actor loss')\n",
        "    plt.plot(actor_loss)\n",
        "    plt.show()"
      ],
      "execution_count": null,
      "outputs": []
    },
    {
      "cell_type": "markdown",
      "metadata": {
        "id": "PZuz-mKAKkj_"
      },
      "source": [
        "<h2>Training</h2>"
      ]
    },
    {
      "cell_type": "code",
      "metadata": {
        "id": "-Gef80LzkGl0"
      },
      "source": [
        "replay_buffer = ReplayBuffer(n_obs, n_act, int(1e5))\n",
        "\n",
        "sac = SAC(actor=actor,\n",
        "          critics=critics,\n",
        "          replay_buffer=replay_buffer,\n",
        "          batch_size=128,\n",
        "          gamma=0.99,\n",
        "          ro=0.997,\n",
        "          reward_scale=3,\n",
        "          alpha_start=1.0,\n",
        "          alpha_final=0.01,\n",
        "          alpha_decay=35000,\n",
        "          init_delay=10000,\n",
        "          update_every=50)"
      ],
      "execution_count": null,
      "outputs": []
    },
    {
      "cell_type": "markdown",
      "metadata": {
        "id": "UskXCsJa3VWo"
      },
      "source": [
        "Here we can see how the exploration will decay over time, given some specific parameters"
      ]
    },
    {
      "cell_type": "code",
      "metadata": {
        "colab": {
          "base_uri": "https://localhost:8080/",
          "height": 282
        },
        "id": "oi6OcUvlgUar",
        "outputId": "ffe427cf-29af-49f5-f18e-9790e0577856"
      },
      "source": [
        "plt.plot([sac._alpha_by_timestep(t) for t in range(150000)])"
      ],
      "execution_count": null,
      "outputs": [
        {
          "output_type": "execute_result",
          "data": {
            "text/plain": [
              "[<matplotlib.lines.Line2D at 0x7f6f72517350>]"
            ]
          },
          "metadata": {
            "tags": []
          },
          "execution_count": 14
        },
        {
          "output_type": "display_data",
          "data": {
            "image/png": "[encoded data removed]",
            "text/plain": [
              "<Figure size 432x288 with 1 Axes>"
            ]
          },
          "metadata": {
            "tags": [],
            "needs_background": "light"
          }
        }
      ]
    },
    {
      "cell_type": "markdown",
      "metadata": {
        "id": "0Z2g2nNy33k5"
      },
      "source": [
        "This is the general main loop for training an agent"
      ]
    },
    {
      "cell_type": "code",
      "metadata": {
        "tags": [],
        "colab": {
          "base_uri": "https://localhost:8080/",
          "height": 336
        },
        "id": "MgDxiS0NKkkA",
        "outputId": "1f8404b3-35a7-4303-be75-e8264588dd97"
      },
      "source": [
        "n_steps = 1000000\n",
        "eval_every = 3000\n",
        "eval_rewards = []\n",
        "\n",
        "state = env.reset()\n",
        "for t in range(n_steps):\n",
        "\n",
        "    action = sac.act(state)    \n",
        "    next_state, reward, done, _ = env.step(action)\n",
        "    sac.feedback(state, action, reward, next_state, done)    \n",
        "    state = next_state\n",
        "    \n",
        "    if done:\n",
        "        state = env.reset()\n",
        "    \n",
        "    if t % eval_every == 0:\n",
        "        eval_rewards.append(rollout(sac, env_test, 10))\n",
        "        plot(t, eval_rewards, sac.losses_critic, sac.losses_actor)\n"
      ],
      "execution_count": null,
      "outputs": [
        {
          "output_type": "display_data",
          "data": {
            "image/png": "[encoded data removed]",
            "text/plain": [
              "<Figure size 1440x360 with 3 Axes>"
            ]
          },
          "metadata": {
            "tags": [],
            "needs_background": "light"
          }
        }
      ]
    },
    {
      "cell_type": "markdown",
      "metadata": {
        "id": "wMwusCHC4Sy4"
      },
      "source": [
        "### Observations\n",
        "\n",
        "In the LunarLander environment we can see that the agent is able to successfully learn a decent policy (see results above). \n",
        "\n",
        "This is the best combination of hyperparameters that I could find. In addition, I also experimented with combinations of the following values:\n",
        "- capacity (replay_buffer): (1000, 3000, 5000, 7500, 10000, **100000**)\n",
        "- batch_size: (64, **128**, 256)\n",
        "- ro: (0.995, **0.997**, 0.999)\n",
        "- reward_scale: (1, **3**, 5)\n",
        "- alpha_decay: (15000, 20000, 25000, 30000, **35000**)\n",
        "- update_every: (**50**, 100)\n",
        "- layer units of Critic and Actor models: (**128**, 256)\n",
        "\n",
        "Both networks had an architecture of 2 hidden layers in all experiments because I did not think that the reward function required more complexity to be approximated.\n",
        "\n",
        "The init_delay parameter of SAC was almost always set to 10000 in order to let the buffer fill up a bit, and also to enforce some initial exploration since the first actions are expected to be random (with the networks weights initialized randomly).\n",
        "\n",
        "Besides, I could not achieve any interesting results with the MountainCar environment because the agent did not seem to be able to reach the goal, and developing a useful policy depended too much on that act (I did not experiment as much with it either)."
      ]
    }
  ]
}